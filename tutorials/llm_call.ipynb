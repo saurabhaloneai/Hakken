{
 "cells": [
  {
   "cell_type": "markdown",
   "id": "1ad6a0b0",
   "metadata": {},
   "source": [
    "# how to build hakken \n",
    "\n",
    "\n",
    "> i will explain how i build the hakken: coding agent. we will cover some fundamental on how you can build agent and then will build some of the features of hakken not all tho but some.\n",
    "\n",
    "## outline \n",
    "\n",
    "- we wil start from simple llm tool call \n",
    "- then we will build react agent \n",
    "- then we will add some features\n"
   ]
  },
  {
   "cell_type": "markdown",
   "id": "fd92099a",
   "metadata": {
    "vscode": {
     "languageId": "plaintext"
    }
   },
   "source": [
    "> # part-1 : llm tool call "
   ]
  },
  {
   "cell_type": "code",
   "execution_count": 4,
   "id": "c59a030b",
   "metadata": {},
   "outputs": [
    {
     "data": {
      "text/plain": [
       "True"
      ]
     },
     "execution_count": 4,
     "metadata": {},
     "output_type": "execute_result"
    }
   ],
   "source": [
    "## imports \n",
    "import json, requests\n",
    "from openai import OpenAI\n",
    "from tavily import TavilyClient # for web search \n",
    "import os \n",
    "from dotenv import load_dotenv\n",
    "load_dotenv()"
   ]
  },
  {
   "cell_type": "markdown",
   "id": "fee86e12",
   "metadata": {},
   "source": [
    "- you can get api for llm (free): [link](https://openrouter.ai/z-ai/glm-4.5-air:free)\n",
    "- and for our web search tool (free): [link](https://www.tavily.com/)\n"
   ]
  },
  {
   "cell_type": "markdown",
   "id": "a59e0fa8",
   "metadata": {},
   "source": [
    "> ### model : llm "
   ]
  },
  {
   "cell_type": "code",
   "execution_count": 43,
   "id": "c73d3628",
   "metadata": {},
   "outputs": [],
   "source": [
    "## lets define our llm \n",
    "\n",
    "#get the keys from env \n",
    "openrouter_key = os.getenv(\"OPENROUTER_API_KEY\")\n",
    "\n",
    "openai_client = OpenAI(\n",
    "  base_url=\"https://openrouter.ai/api/v1\",\n",
    "  api_key=openrouter_key,\n",
    ")\n",
    "\n"
   ]
  },
  {
   "cell_type": "markdown",
   "id": "a2d9354b",
   "metadata": {},
   "source": [
    "> ### tool description "
   ]
  },
  {
   "cell_type": "code",
   "execution_count": 66,
   "id": "54d42b48",
   "metadata": {},
   "outputs": [],
   "source": [
    "tavily_client = TavilyClient(api_key=os.environ[\"TAVILY_API_KEY\"])\n",
    "from typing import Literal\n",
    "\n",
    "def internet_search(\n",
    "    query: str,\n",
    "    max_results: int = 5,\n",
    "    topic: Literal[\"general\", \"news\", \"finance\"] = \"general\",\n",
    "    include_raw_content: bool = False,\n",
    "):\n",
    "    search_docs = tavily_client.search(\n",
    "        query,\n",
    "        max_results=max_results,\n",
    "        include_raw_content=include_raw_content,\n",
    "        topic=topic,\n",
    "    )\n",
    "    return search_docs\n",
    "\n",
    "tools = [\n",
    "    {\n",
    "        \"type\": \"function\",\n",
    "        \"function\": {\n",
    "            \"name\": \"internet_search\",\n",
    "            \"description\": \"Search the internet for current information, news, and research. Can search across general topics, news, or finance-specific content. Useful for finding up-to-date information, research developments, tech news, and current events.\",\n",
    "            \"parameters\": {\n",
    "                \"type\": \"object\",\n",
    "                \"properties\": {\n",
    "                    \"query\": {\n",
    "                        \"type\": \"string\",\n",
    "                        \"description\": \"The search query string to find relevant information\"\n",
    "                    },\n",
    "                    \"max_results\": {\n",
    "                        \"type\": \"integer\",\n",
    "                        \"description\": \"Maximum number of search results to return (default: 5)\",\n",
    "                        \"default\": 5\n",
    "                    },\n",
    "                    \"topic\": {\n",
    "                        \"type\": \"string\",\n",
    "                        \"enum\": [\"general\", \"news\", \"finance\"],\n",
    "                        \"description\": \"The topic category to focus the search on\",\n",
    "                        \"default\": \"general\"\n",
    "                    },\n",
    "                    \"include_raw_content\": {\n",
    "                        \"type\": \"boolean\",\n",
    "                        \"description\": \"Whether to include raw content from web pages in the results\",\n",
    "                        \"default\": False\n",
    "                    }\n",
    "                },\n",
    "                \"required\": [\"query\"]\n",
    "            }\n",
    "        }\n",
    "    }\n",
    "]\n",
    "\n",
    "TOOL_MAPPING = {\n",
    "    \"internet_search\": internet_search\n",
    "}"
   ]
  },
  {
   "cell_type": "code",
   "execution_count": 67,
   "id": "493aae67",
   "metadata": {},
   "outputs": [],
   "source": [
    "task = \"can you search new ai agent trends in 2025 ?\"\n",
    "\n",
    "messages = [\n",
    "  {\n",
    "    \"role\": \"system\",\n",
    "    \"content\": \"You are a helpful assistant.\"\n",
    "  },\n",
    "  {\n",
    "    \"role\": \"user\",\n",
    "    \"content\": task, ## our query \n",
    "  }\n",
    "]"
   ]
  },
  {
   "cell_type": "markdown",
   "id": "8f63118e",
   "metadata": {},
   "source": [
    "> ###  lets run without tool call; just simple llm call "
   ]
  },
  {
   "cell_type": "code",
   "execution_count": 68,
   "id": "343c20ed",
   "metadata": {},
   "outputs": [],
   "source": [
    "model_name = os.getenv(\"OPENAI_MODEL\")\n",
    "\n",
    "request_1 = {\n",
    "    \"model\":model_name,\n",
    "    \"tools\": tools,\n",
    "    \"messages\": messages\n",
    "}\n",
    "completion_1 = openai_client.chat.completions.create(**request_1)\n",
    "response_1 = completion_1.choices[0].message \n"
   ]
  },
  {
   "cell_type": "code",
   "execution_count": 72,
   "id": "f290799b",
   "metadata": {},
   "outputs": [
    {
     "name": "stdout",
     "output_type": "stream",
     "text": [
      "ChatCompletionMessage(content=\"\\nI'll search for the latest AI agent trends in 2025 to keep you updated on this evolving technology.\\n\", refusal=None, role='assistant', annotations=None, audio=None, function_call=None, tool_calls=[ChatCompletionMessageFunctionToolCall(id='call_YdopfCm6Sp6LHYhTHLkcSA', function=Function(arguments='{\"query\": \"AI agent trends 2025 new developments\", \"topic\": \"general\", \"max_results\": 5}', name='internet_search'), type='function', index=0)], reasoning='\\nThe user is asking me to search for new AI agent trends in 2025. This is a current topic request, so I should use the internet_search function to find up-to-date information about AI agent trends for 2025.\\n\\nI need to:\\n1. Use the internet_search function\\n2. Set the query to something like \"AI agent trends 2025\" or \"new AI agent developments 2025\"\\n3. Use the \"general\" topic since this is about technology trends\\n4. I don\\'t need to include raw content unless specified, so I\\'ll leave that as default false\\n5. I can use the default max_results of 5\\n\\nLet me make the search call.', reasoning_details=[{'type': 'reasoning.text', 'text': '\\nThe user is asking me to search for new AI agent trends in 2025. This is a current topic request, so I should use the internet_search function to find up-to-date information about AI agent trends for 2025.\\n\\nI need to:\\n1. Use the internet_search function\\n2. Set the query to something like \"AI agent trends 2025\" or \"new AI agent developments 2025\"\\n3. Use the \"general\" topic since this is about technology trends\\n4. I don\\'t need to include raw content unless specified, so I\\'ll leave that as default false\\n5. I can use the default max_results of 5\\n\\nLet me make the search call.', 'format': 'unknown', 'index': 0}])\n"
     ]
    }
   ],
   "source": [
    "print(response_1)"
   ]
  },
  {
   "cell_type": "code",
   "execution_count": 73,
   "id": "55e40bda",
   "metadata": {},
   "outputs": [
    {
     "data": {
      "text/plain": [
       "'internet_search'"
      ]
     },
     "execution_count": 73,
     "metadata": {},
     "output_type": "execute_result"
    }
   ],
   "source": [
    "tool_call.function.name"
   ]
  },
  {
   "cell_type": "code",
   "execution_count": 75,
   "id": "ad8a9004",
   "metadata": {},
   "outputs": [
    {
     "data": {
      "text/plain": [
       "'{\"query\": \"AI agent trends 2025 new developments\", \"topic\": \"general\", \"max_results\": 5}'"
      ]
     },
     "execution_count": 75,
     "metadata": {},
     "output_type": "execute_result"
    }
   ],
   "source": [
    "tool_call.function.arguments"
   ]
  },
  {
   "cell_type": "markdown",
   "id": "7cbeebad",
   "metadata": {},
   "source": [
    "> ### okay its working "
   ]
  },
  {
   "cell_type": "code",
   "execution_count": null,
   "id": "c083ae27",
   "metadata": {},
   "outputs": [
    {
     "name": "stdout",
     "output_type": "stream",
     "text": [
      "[{'role': 'system', 'content': 'You are a helpful assistant.'}, {'role': 'user', 'content': 'can you search new ai agent trends in 2025 ?'}, ChatCompletionMessage(content=\"\\nI'll search for the latest AI agent trends in 2025 to keep you updated on this evolving technology.\\n\", refusal=None, role='assistant', annotations=None, audio=None, function_call=None, tool_calls=[ChatCompletionMessageFunctionToolCall(id='call_YdopfCm6Sp6LHYhTHLkcSA', function=Function(arguments='{\"query\": \"AI agent trends 2025 new developments\", \"topic\": \"general\", \"max_results\": 5}', name='internet_search'), type='function', index=0)], reasoning='\\nThe user is asking me to search for new AI agent trends in 2025. This is a current topic request, so I should use the internet_search function to find up-to-date information about AI agent trends for 2025.\\n\\nI need to:\\n1. Use the internet_search function\\n2. Set the query to something like \"AI agent trends 2025\" or \"new AI agent developments 2025\"\\n3. Use the \"general\" topic since this is about technology trends\\n4. I don\\'t need to include raw content unless specified, so I\\'ll leave that as default false\\n5. I can use the default max_results of 5\\n\\nLet me make the search call.', reasoning_details=[{'type': 'reasoning.text', 'text': '\\nThe user is asking me to search for new AI agent trends in 2025. This is a current topic request, so I should use the internet_search function to find up-to-date information about AI agent trends for 2025.\\n\\nI need to:\\n1. Use the internet_search function\\n2. Set the query to something like \"AI agent trends 2025\" or \"new AI agent developments 2025\"\\n3. Use the \"general\" topic since this is about technology trends\\n4. I don\\'t need to include raw content unless specified, so I\\'ll leave that as default false\\n5. I can use the default max_results of 5\\n\\nLet me make the search call.', 'format': 'unknown', 'index': 0}]), {'role': 'tool', 'tool_call_id': 'call_YdopfCm6Sp6LHYhTHLkcSA', 'content': '{\\n  \"query\": \"AI agent trends 2025 new developments\",\\n  \"follow_up_questions\": null,\\n  \"answer\": null,\\n  \"images\": [],\\n  \"results\": [\\n    {\\n      \"url\": \"https://www.alvarezandmarsal.com/thought-leadership/demystifying-ai-agents-in-2025-separating-hype-from-reality-and-navigating-market-outlook\",\\n      \"title\": \"Demystifying AI Agents in 2025: Separating Hype From Reality and ...\",\\n      \"content\": \"This piece builds on our recent white paper on automating workflows using LLMs and AI agents, and it aims to provide business leaders with a clear understanding of AI agents, market trends and strategic considerations for investment over the next six to 12 months. Furthermore, Reuters reported that the cloud computing giant Amazon Web Services (AWS) has doubled down on its investment in LLM-derived AI agents, forming an entirely new business unit focused on AI agents, along with a slew of enhancements to its Bedrock and SageMaker services to help customers build and integrate agents in their work. Critically, ROI is driving adoption: early enterprise deployments of AI agents have yielded up to **50 percent efficiency improvements** in functions like customer service, sales and HR operations.\",\\n      \"score\": 0.8646883,\\n      \"raw_content\": null\\n    },\\n    {\\n      \"url\": \"https://news.microsoft.com/source/features/ai/6-ai-trends-youll-see-more-of-in-2025/\",\\n      \"title\": \"6 AI trends you\\'ll see more of in 2025 - Microsoft Source\",\\n      \"content\": \"*   [Home](https://news.microsoft.com/source) *   [AI](https://news.microsoft.com/source/topics/ai/) *   [Windows](https://www.microsoft.com/en-us/windows/) *   [Small Business](https://www.microsoft.com/en-us/store/b/business) *   [AI](https://www.microsoft.com/en-us/ai) *   [Computers](https://www.microsoft.com/en-us/store/b/pc?icid=CNavDevicesPC) *   [Microsoft Security](https://www.microsoft.com/en-us/security) *   [Dynamics 365](https://www.microsoft.com/en-us/dynamics-365) *   [Microsoft 365 for business](https://www.microsoft.com/en-us/microsoft-365/business) *   [Windows 365](https://www.microsoft.com/en-us/windows-365) *   [Microsoft Industry](https://www.microsoft.com/en-us/industry) *   [Small Business](https://www.microsoft.com/en-us/store/b/business?icid=CNavBusinessStore) *   [Free downloads & security](https://www.microsoft.com/en-us/download) *   [Education](https://www.microsoft.com/en-us/education) *   [](https://www.facebook.com/sharer/sharer.php?u=https://news.microsoft.com/source/features/ai/6-ai-trends-youll-see-more-of-in-2025/ \\\\\"Share on Facebook\\\\\") *   [](https://www.x.com/share?url=https://news.microsoft.com/source/features/ai/6-ai-trends-youll-see-more-of-in-2025/ \\\\\"Share on X\\\\\") *   [](https://www.linkedin.com/sharing/share-offsite/?url=https://news.microsoft.com/source/features/ai/6-ai-trends-youll-see-more-of-in-2025/ \\\\\"Share on LinkedIn\\\\\") *   [](https://www.reddit.com/submit?url=https://news.microsoft.com/source/features/ai/6-ai-trends-youll-see-more-of-in-2025/&title=6%20AI%20trends%20you%E2%80%99ll%20see%20more%20of%20in%202025 \\\\\"Share on Reddit\\\\\") For example, Microsoft\\\\u2019s family of small [Phi models](https://news.microsoft.com/source/features/ai/the-phi-3-small-language-models-with-big-potential/) showed that curating high-quality data can improve model performance and reasoning. In 2025, a new generation of [AI-powered agents](https://news.microsoft.com/source/features/ai/ai-agents-what-they-are-and-how-theyll-change-the-way-we-work/) will do more \\\\u2014 even handling certain tasks on your behalf. Anyone can build an agent in Copilot Studio \\\\u2014 no coding required \\\\u2014 while developers can create more sophisticated agents to orchestrate more complex tasks in [Azure AI Foundry](https://azure.microsoft.com/en-us/blog/the-next-wave-of-azure-innovation-azure-ai-foundry-intelligent-data-and-more).\",\\n      \"score\": 0.85567063,\\n      \"raw_content\": null\\n    },\\n    {\\n      \"url\": \"https://datasociety.com/ai-agents-the-defining-workforce-trend-of-2025/\",\\n      \"title\": \"AI Agents: The Defining Workforce Trend of 2025 - Data Society\",\\n      \"content\": \"[click animation](https://datasociety.com/ai-agents-the-defining-workforce-trend-of-2025/) [Data Society](https://datasociety.com/ai-agents-the-defining-workforce-trend-of-2025/) ![Image 7: AI Agents: The Defining Workforce Trend of 2025](https://datasociety.com/wp-content/uploads/2025/05/26.webp) *   [Streamlined Communication](https://datasociety.com/ai-agents-the-defining-workforce-trend-of-2025/): AI-powered chatbots respond to routine employee inquiries, reducing dependency on HR and administrative personnel. *   [Personalized Learning Paths](https://datasociety.com/ai-agents-the-defining-workforce-trend-of-2025/): AI agents assess employees\\\\u2019 strengths and weaknesses and recommend targeted training modules. *   [Task-Specific Assistance](https://datasociety.com/ai-agents-the-defining-workforce-trend-of-2025/): AI can walk employees through unfamiliar software or company procedures step-by-step. *   [Real-Time Feedback](https://datasociety.com/ai-agents-the-defining-workforce-trend-of-2025/): AI provides instant performance evaluations and constructive feedback, helping employees refine their skills quickly. *   [Performance Analytics](https://datasociety.com/ai-agents-the-defining-workforce-trend-of-2025/): AI monitors employee productivity and provides insights on bottlenecks and inefficiencies. *   [Strategic Workforce Planning](https://datasociety.com/ai-agents-the-defining-workforce-trend-of-2025/): AI helps HR teams allocate resources effectively based on real-time workforce analytics. *   [Continuous Support](https://datasociety.com/ai-agents-the-defining-workforce-trend-of-2025/): AI remains available beyond onboarding, providing ongoing assistance as employees grow into their roles.\",\\n      \"score\": 0.8548001,\\n      \"raw_content\": null\\n    },\\n    {\\n      \"url\": \"https://www.deloitte.com/us/en/services/consulting/blogs/new-ai-breakthroughs-ai-trends.html\",\\n      \"title\": \"Three New AI Breakthroughs Shaping 2026: AI Trends | Deloitte US\",\\n      \"content\": \"Explore three AI focus areas for 2025 \\\\u2014agentic AI, physical AI, and sovereign AI. Learn why they matter and what experts predict for the\",\\n      \"score\": 0.8332299,\\n      \"raw_content\": null\\n    },\\n    {\\n      \"url\": \"https://www.ibm.com/think/insights/ai-agents-2025-expectations-vs-reality\",\\n      \"title\": \"AI Agents in 2025: Expectations vs. Reality - IBM\",\\n      \"content\": \"2025\\'s agents will be fully autonomous AI programs that can scope out a project and complete it with all the necessary tools they need and with no help from\",\\n      \"score\": 0.7933146,\\n      \"raw_content\": null\\n    }\\n  ],\\n  \"response_time\": 1.05,\\n  \"request_id\": \"d24809f1-b4c3-46d7-80c9-86d284102155\"\\n}'}]\n"
     ]
    }
   ],
   "source": [
    "# append the response to the messages array so the LLM has the full context\n",
    "messages.append(response_1) ## adding to history \n",
    "if response_1.tool_calls:\n",
    "    for tool_call in response_1.tool_calls:\n",
    "        tool_name = tool_call.function.name\n",
    "        tool_args = json.loads(tool_call.function.arguments)\n",
    "\n",
    "        # Check if the tool exists in our mapping\n",
    "        if tool_name in TOOL_MAPPING:\n",
    "            tool_response = TOOL_MAPPING[tool_name](**tool_args) # this where we call the function with proper arguments \n",
    "\n",
    "            # add tool response to messages\n",
    "            messages.append({\n",
    "                \"role\": \"tool\",\n",
    "                \"tool_call_id\": tool_call.id,\n",
    "                \"content\": json.dumps(tool_response, indent=2),\n",
    "            })\n",
    "\n",
    "print(messages) ## full history from steps 1–2 (system + user + assistant/tool messages).\n"
   ]
  },
  {
   "cell_type": "code",
   "execution_count": null,
   "id": "b0c0f037",
   "metadata": {},
   "outputs": [
    {
     "name": "stdout",
     "output_type": "stream",
     "text": [
      "\n",
      "Based on my search, here are the key AI agent trends for 2025:\n",
      "\n",
      "## Major AI Agent Trends in 2025\n",
      "\n",
      "### 1. **Enterprise Adoption and ROI Focus**\n",
      "- Companies are seeing **up to 50% efficiency improvements** in customer service, sales, and HR operations\n",
      "- ROI is the primary driver for enterprise adoption\n",
      "- Major cloud providers like AWS are doubling down on AI agent investments, creating dedicated business units\n",
      "\n",
      "### 2. **Enhanced Autonomy and Capability**\n",
      "- AI agents are becoming **fully autonomous** - able to scope out projects and complete them with necessary tools without human help\n",
      "- New generation of agents can **handle tasks on behalf of users** rather than just assisting\n",
      "- Agents are being integrated into workflow automation systems\n",
      "\n",
      "### 3. **Democratization of Agent Creation**\n",
      "- **No-code platforms** like Microsoft's Copilot Studio allow anyone to build AI agents\n",
      "- Developers have access to sophisticated tools like Azure AI Foundry for creating more complex agents\n",
      "- Enhanced services from major cloud providers (AWS Bedrock, SageMaker)\n",
      "\n",
      "### 4. **Workforce Integration**\n",
      "- AI agents are being called **\"the defining workforce trend of 2025\"**\n",
      "- Specific workforce applications include:\n",
      "  - Streamlined communication and employee support\n",
      "  - Personalized learning paths and training recommendations\n",
      "  - Task-specific assistance for software and procedures\n",
      "  - Real-time performance feedback and analytics\n",
      "  - Strategic workforce planning and resource allocation\n",
      "\n",
      "### 5. **Advanced Model Development**\n",
      "- Focus on **curating high-quality data** to improve model performance and reasoning\n",
      "- Integration of smaller, more efficient models (like Microsoft's Phi models) alongside larger LLMs\n",
      "- Three key focus areas identified: agentic AI, physical AI, and sovereign AI\n",
      "\n",
      "The trend is clearly moving toward more autonomous, capable, and accessible AI agents that can deliver measurable business value while becoming easier for organizations to implement and manage.\n"
     ]
    }
   ],
   "source": [
    "request_2 = {\n",
    "    \"model\": model_name,\n",
    "    \"tools\": tools,\n",
    "    \"messages\": messages ## we send this to model to get clear response \n",
    "}\n",
    "completion_2 = openai_client.chat.completions.create(**request_2)\n",
    "final_response = completion_2.choices[0].message\n",
    "print(final_response.content)\n",
    "\n"
   ]
  },
  {
   "cell_type": "markdown",
   "id": "8029982f",
   "metadata": {},
   "source": [
    "---\n",
    ">\n",
    "> ## we can break above stuff into three step process\n",
    ">\n",
    "---\n",
    "### **first step**\n",
    "call to model : user's message (and conversation history) to the model. this is the \"reasoning\" phase where the model decides if tools are needed.\n",
    "\n",
    "**input**\n",
    "- `messages`: system prompt + user query\n",
    "\n",
    "- `tools` : for example intern_search \n",
    "\n",
    "- `model_name` : gpt-5 \n",
    "\n",
    "**ouput**\n",
    "\n",
    "- `content` : which include the resoning of model \n",
    "\n",
    "- `tool_calls`: list of tool requests (if any), each with `name`\n",
    "\n",
    "**code** : \n",
    "```python \n",
    "completion_1 = openai_client.chat.completions.create(**request_1)\n",
    "response_1 = completion_1.choices[0].message\n",
    "messages.append(response_1)  # Add to history\n",
    "```\n",
    "---\n",
    "\n",
    "### **second step**\n",
    "\n",
    "`what it does` : if tools exist then parse it and execute the matching function (e.g., internet_search via tavily), and add the results back to the conversation history as \"tool\" messages\n",
    "\n",
    "**input**\n",
    "\n",
    "- `response_1.tool_calls` : list from Step 1 (e.g., one tool call with args like {\"query\": \"AI agent trends 2025\"}).\n",
    "\n",
    "- `TOOL_MAPPING` : dict mapping tool names to functions (e.g., \"internet_search\": internet_search).\n",
    "\n",
    "\n",
    "**ouput**\n",
    "\n",
    "here we get the function name of all tools and arguments of it and then execute the tools and append the all tool response to messeges.\n",
    "\n",
    "\n",
    "- `tool_response`: raw result from the tool (e.g., tavily search returns a dict with results list of URLs, titles, snippets).\n",
    "\n",
    "- `Updated messages`: appends a new dict for each tool: {\"role\": \"tool\", \"tool_call_id\": \"call_abc123\", \"content\": json.dumps(`tool_response`)}.\n",
    "\n",
    "**code** \n",
    "\n",
    "```python \n",
    "if response_1.tool_calls: # seeing if model need tool call to execute query of user is yes then continue otherwise skip \n",
    "    for tool_call in response_1.tool_calls:\n",
    "        tool_name = tool_call.function.name ## getting name of tool eg internet_search \n",
    "        tool_args = json.loads(tool_call.function.arguments) ## getting arugement of it query and other \n",
    "        if tool_name in TOOL_MAPPING:\n",
    "            tool_response = TOOL_MAPPING[tool_name](**tool_args) ## here the tool call is happeinig \n",
    "            messages.append({\n",
    "                \"role\": \"tool\",\n",
    "                \"tool_call_id\": tool_call.id,\n",
    "                \"content\": json.dumps(tool_response, indent=2),\n",
    "            })\n",
    "```\n",
    "\n",
    "----\n",
    "\n",
    "###  **third step** \n",
    "\n",
    "here we send all the history of `step-1+tool_response` to model to get clean ouput \n",
    "\n",
    "\n",
    "**Input**:\n",
    "- `updated messages`: full history from steps 1–2 (system + user + assistant/tool messages).\n",
    "\n",
    "- `tools`: same tool list (in case more calls are needed, though often not).\n",
    "\n",
    "**ouput** \n",
    "\n",
    "- `final_response` : clean\n",
    "\n",
    "---\n",
    "---"
   ]
  },
  {
   "cell_type": "markdown",
   "id": "ae956bb6",
   "metadata": {},
   "source": [
    "> # part-2: react agent \n",
    "\n",
    "ReAct agent is made of this four components :\n",
    "\n",
    "1. thought: internal reasoning about what to do next\n",
    "2. action: a specific action to take (like searching, calculating, or calling an API)\n",
    "3. observation: the result of that action\n",
    "4. repeat until the task is complete\n",
    "\n",
    "> to get this working we need terminal acess so all the code will be in tutorials/[react_agent](tutorials/react_agent) "
   ]
  },
  {
   "cell_type": "markdown",
   "id": "2a5f7838",
   "metadata": {},
   "source": []
  }
 ],
 "metadata": {
  "kernelspec": {
   "display_name": "hakken",
   "language": "python",
   "name": "python3"
  },
  "language_info": {
   "codemirror_mode": {
    "name": "ipython",
    "version": 3
   },
   "file_extension": ".py",
   "mimetype": "text/x-python",
   "name": "python",
   "nbconvert_exporter": "python",
   "pygments_lexer": "ipython3",
   "version": "3.11.8"
  }
 },
 "nbformat": 4,
 "nbformat_minor": 5
}
