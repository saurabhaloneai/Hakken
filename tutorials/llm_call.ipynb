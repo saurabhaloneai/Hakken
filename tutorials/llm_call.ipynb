{
 "cells": [
  {
   "cell_type": "markdown",
   "id": "1ad6a0b0",
   "metadata": {},
   "source": [
    "# how to build hakken \n",
    "\n",
    "\n",
    "> i will explain how i build the hakken: coding agent. we will cover some fundamental on how you can build agent and then will build some of the features of hakken not all tho but some.\n",
    "\n",
    "## outline \n",
    "\n",
    "- we wil start from simple llm tool call \n",
    "- then we will build react agent \n",
    "- then we will add some features\n"
   ]
  },
  {
   "cell_type": "markdown",
   "id": "fd92099a",
   "metadata": {
    "vscode": {
     "languageId": "plaintext"
    }
   },
   "source": [
    "> # part-1 : llm tool call "
   ]
  },
  {
   "cell_type": "code",
   "execution_count": 4,
   "id": "c59a030b",
   "metadata": {},
   "outputs": [
    {
     "data": {
      "text/plain": [
       "True"
      ]
     },
     "execution_count": 4,
     "metadata": {},
     "output_type": "execute_result"
    }
   ],
   "source": [
    "## imports \n",
    "import json, requests\n",
    "from openai import OpenAI\n",
    "from tavily import TavilyClient # for web search \n",
    "import os \n",
    "from dotenv import load_dotenv\n",
    "load_dotenv()"
   ]
  },
  {
   "cell_type": "markdown",
   "id": "fee86e12",
   "metadata": {},
   "source": [
    "- you can get api for llm (free): [link](https://openrouter.ai/z-ai/glm-4.5-air:free)\n",
    "- and for our web search tool (free): [link](https://www.tavily.com/)\n"
   ]
  },
  {
   "cell_type": "markdown",
   "id": "a59e0fa8",
   "metadata": {},
   "source": [
    "> ### model : llm "
   ]
  },
  {
   "cell_type": "code",
   "execution_count": 43,
   "id": "c73d3628",
   "metadata": {},
   "outputs": [],
   "source": [
    "## lets define our llm \n",
    "\n",
    "#get the keys from env \n",
    "openrouter_key = os.getenv(\"OPENROUTER_API_KEY\")\n",
    "\n",
    "openai_client = OpenAI(\n",
    "  base_url=\"https://openrouter.ai/api/v1\",\n",
    "  api_key=openrouter_key,\n",
    ")\n",
    "\n"
   ]
  },
  {
   "cell_type": "markdown",
   "id": "a2d9354b",
   "metadata": {},
   "source": [
    "> ### tool description "
   ]
  },
  {
   "cell_type": "code",
   "execution_count": null,
   "id": "54d42b48",
   "metadata": {},
   "outputs": [],
   "source": [
    "tavily_client = TavilyClient(api_key=os.environ[\"TAVILY_API_KEY\"])\n",
    "from typing import Literal\n",
    "\n",
    "def internet_search(\n",
    "    query: str,\n",
    "    max_results: int = 5,\n",
    "    topic: Literal[\"general\", \"news\", \"finance\"] = \"general\",\n",
    "    include_raw_content: bool = False,\n",
    "):\n",
    "    search_docs = tavily_client.search(\n",
    "        query,\n",
    "        max_results=max_results,\n",
    "        include_raw_content=include_raw_content,\n",
    "        topic=topic,\n",
    "    )\n",
    "    return search_docs\n",
    "\n",
    "tools = [\n",
    "    {\n",
    "        \"type\": \"function\",\n",
    "        \"function\": {\n",
    "            \"name\": \"internet_search\",\n",
    "            \"description\": \"Search the internet for current information, news, and research. Can search across general topics, news, or finance-specific content. Useful for finding up-to-date information, research developments, tech news, and current events.\",\n",
    "            \"parameters\": {\n",
    "                \"type\": \"object\",\n",
    "                \"properties\": {\n",
    "                    \"search_terms\": {\n",
    "            \"type\": \"array\",\n",
    "            \"items\": {\"type\": \"string\"},\n",
    "            \"description\": \"List of search terms to find books\"\n",
    "          }\n",
    "                    \n",
    "                },\n",
    "                \"required\": [\"query\"]\n",
    "            }\n",
    "        }\n",
    "    }\n",
    "]\n",
    "\n"
   ]
  },
  {
   "cell_type": "code",
   "execution_count": 44,
   "id": "493aae67",
   "metadata": {},
   "outputs": [],
   "source": [
    "task = \"can you search new ai agent trends in 2025 ?\"\n",
    "\n",
    "messages = [\n",
    "  {\n",
    "    \"role\": \"system\",\n",
    "    \"content\": \"You are a helpful assistant.\"\n",
    "  },\n",
    "  {\n",
    "    \"role\": \"user\",\n",
    "    \"content\": task, ## our query \n",
    "  }\n",
    "]"
   ]
  },
  {
   "cell_type": "markdown",
   "id": "8f63118e",
   "metadata": {},
   "source": [
    "> ###  lets run without tool call; just simple llm call "
   ]
  },
  {
   "cell_type": "code",
   "execution_count": 45,
   "id": "343c20ed",
   "metadata": {},
   "outputs": [
    {
     "name": "stdout",
     "output_type": "stream",
     "text": [
      "ChatCompletionMessage(content=\"\\nI'll search for the latest AI agent trends and developments expected in 2025.\\n\", refusal=None, role='assistant', annotations=None, audio=None, function_call=None, tool_calls=[ChatCompletionMessageFunctionToolCall(id='call_sv7GX3ElTwOlBOl_vgFeZQ', function=Function(arguments='{\"query\": \"new AI agent trends 2025\", \"topic\": \"general\"}', name='internet_search'), type='function', index=0)], reasoning='\\nThe user is asking me to search for new AI agent trends in 2025. This is a request for current information about AI agent developments and trends for the upcoming year. I should use the internet_search function to find relevant information about this topic.\\n\\nI\\'ll use:\\n- query: \"new AI agent trends 2025\" \\n- topic: \"general\" (since this is about technology trends rather than specifically news or finance)\\n- max_results: I\\'ll use the default of 5 to get a good overview\\n- include_raw_content: I\\'ll keep this as false to get cleaner results\\n\\nThe query should capture the essence of what they\\'re looking for - new trends in AI agents specifically for 2025.', reasoning_details=[{'type': 'reasoning.text', 'text': '\\nThe user is asking me to search for new AI agent trends in 2025. This is a request for current information about AI agent developments and trends for the upcoming year. I should use the internet_search function to find relevant information about this topic.\\n\\nI\\'ll use:\\n- query: \"new AI agent trends 2025\" \\n- topic: \"general\" (since this is about technology trends rather than specifically news or finance)\\n- max_results: I\\'ll use the default of 5 to get a good overview\\n- include_raw_content: I\\'ll keep this as false to get cleaner results\\n\\nThe query should capture the essence of what they\\'re looking for - new trends in AI agents specifically for 2025.', 'format': 'unknown', 'index': 0}])\n"
     ]
    }
   ],
   "source": [
    "model_name = os.getenv(\"OPENAI_MODEL\")\n",
    "\n",
    "request_1 = {\n",
    "    \"model\":model_name,\n",
    "    \"tools\": tools,\n",
    "    \"messages\": messages\n",
    "}\n",
    "response_1 = openai_client.chat.completions.create(**request_1).choices[0].message\n",
    "print(response_1)\n"
   ]
  },
  {
   "cell_type": "markdown",
   "id": "7cbeebad",
   "metadata": {},
   "source": [
    "> ### okay its working "
   ]
  },
  {
   "cell_type": "code",
   "execution_count": 47,
   "id": "c083ae27",
   "metadata": {},
   "outputs": [],
   "source": [
    "messages.append(response_1)\n",
    "for tool_call in response_1.tool_calls:\n",
    "    args = json.loads(tool_call.function.arguments)\n",
    "    tool_result = internet_search(**args)\n",
    "    messages.append({\n",
    "        \"role\": \"tool\",\n",
    "        \"tool_call_id\": tool_call.id,\n",
    "        \"name\": tool_call.function.name,\n",
    "        \"content\": json.dumps(tool_result)\n",
    "    })"
   ]
  },
  {
   "cell_type": "code",
   "execution_count": 49,
   "id": "b0c0f037",
   "metadata": {},
   "outputs": [
    {
     "name": "stdout",
     "output_type": "stream",
     "text": [
      "ChatCompletionMessage(content='\\n', refusal=None, role='assistant', annotations=None, audio=None, function_call=None, tool_calls=[ChatCompletionMessageFunctionToolCall(id='call_EOJbmXppQiqC1M7v6VnUzw', function=Function(arguments='{\"query\": \"AI agent trends 2025 autonomous agents multi-agent systems\", \"topic\": \"general\"}', name='internet_search'), type='function', index=0)], reasoning='\\nGreat! I have some initial search results about AI agent trends for 2025. Let me analyze what I found:\\n\\n1. Data Society article mentions AI agents as the defining workforce trend of 2025, highlighting various workplace applications\\n2. Microsoft Source article mentions 6 AI trends for 2025 including AI-powered agents with greater autonomy\\n3. Warmly AI article shows market growth statistics (45.8% CAGR from 2025-2030)\\n4. IBM has a comprehensive guide to AI agents\\n5. Morgan Stanley article discusses 5 AI trends shaping innovation and ROI in 2025\\n\\nLet me get more detailed information about these trends and search for more specific information about AI agent trends in 2025.', reasoning_details=[{'type': 'reasoning.text', 'text': '\\nGreat! I have some initial search results about AI agent trends for 2025. Let me analyze what I found:\\n\\n1. Data Society article mentions AI agents as the defining workforce trend of 2025, highlighting various workplace applications\\n2. Microsoft Source article mentions 6 AI trends for 2025 including AI-powered agents with greater autonomy\\n3. Warmly AI article shows market growth statistics (45.8% CAGR from 2025-2030)\\n4. IBM has a comprehensive guide to AI agents\\n5. Morgan Stanley article discusses 5 AI trends shaping innovation and ROI in 2025\\n\\nLet me get more detailed information about these trends and search for more specific information about AI agent trends in 2025.', 'format': 'unknown', 'index': 0}])\n"
     ]
    }
   ],
   "source": [
    "request_2 = {\n",
    "        \"model\": model_name,\n",
    "        \"messages\": messages,\n",
    "        \"tools\": tools\n",
    "    }\n",
    "response_2 = openai_client.chat.completions.create(**request_2)\n",
    "    \n",
    "print(response_2.choices[0].message)\n"
   ]
  },
  {
   "cell_type": "code",
   "execution_count": null,
   "id": "012aaa22",
   "metadata": {},
   "outputs": [],
   "source": []
  }
 ],
 "metadata": {
  "kernelspec": {
   "display_name": "hakken",
   "language": "python",
   "name": "python3"
  },
  "language_info": {
   "codemirror_mode": {
    "name": "ipython",
    "version": 3
   },
   "file_extension": ".py",
   "mimetype": "text/x-python",
   "name": "python",
   "nbconvert_exporter": "python",
   "pygments_lexer": "ipython3",
   "version": "3.11.8"
  }
 },
 "nbformat": 4,
 "nbformat_minor": 5
}
